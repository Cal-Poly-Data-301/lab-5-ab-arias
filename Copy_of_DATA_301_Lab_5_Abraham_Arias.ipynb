{
  "nbformat": 4,
  "nbformat_minor": 0,
  "metadata": {
    "kernelspec": {
      "display_name": "Python 3",
      "language": "python",
      "name": "python3"
    },
    "language_info": {
      "codemirror_mode": {
        "name": "ipython",
        "version": 3
      },
      "file_extension": ".py",
      "mimetype": "text/x-python",
      "name": "python",
      "nbconvert_exporter": "python",
      "pygments_lexer": "ipython3",
      "version": "3.6.8"
    },
    "colab": {
      "name": "Copy of DATA 301 Lab 5 - Abraham Arias",
      "provenance": [],
      "collapsed_sections": [],
      "include_colab_link": true
    }
  },
  "cells": [
    {
      "cell_type": "markdown",
      "metadata": {
        "id": "view-in-github",
        "colab_type": "text"
      },
      "source": [
        "<a href=\"https://colab.research.google.com/github/ab-arias/lab-5-ab-arias/blob/main/Copy_of_DATA_301_Lab_5_Abraham_Arias.ipynb\" target=\"_parent\"><img src=\"https://colab.research.google.com/assets/colab-badge.svg\" alt=\"Open In Colab\"/></a>"
      ]
    },
    {
      "cell_type": "markdown",
      "metadata": {
        "id": "iG3X1KFIBLUK"
      },
      "source": [
        "# Authorship of the Federalist Papers\n",
        "\n",
        "The _Federalist Papers_ were a set of 85 essays published between 1787 and 1788 to promote the ratification of the United States Constitution. They were originally published under the pseudonym \"Publius\". Although the identity of the authors was a closely guarded secret at the time, most of the papers have since been conclusively attributed to one of Hamilton, Jay, or Madison. The known authorships can be found in `https://dlsun.github.io/pods/data/federalist/authorship.csv`.\n",
        "\n",
        "For 15 of the papers, however, the authorships remain disputed. (These papers can be identified from the `authorship.csv` file because the \"Author\" field is blank.) In this analysis, you will use the papers with known authorship to predict the authorships of the disputed papers. The text of each paper is available at `https://dlsun.github.io/pods/data/federalist/x.txt`, where `x` is the number of the paper (i.e., a number from 1 to 85). The name of the file indicates the number of the paper."
      ]
    },
    {
      "cell_type": "code",
      "source": [
        "import pandas as pd\n",
        "import numpy as np\n",
        "import requests\n",
        "\n",
        "df_authorship = pd.read_csv(\"https://dlsun.github.io/pods/data/federalist/authorship.csv\")\n",
        "\n",
        "df_authorship.head()"
      ],
      "metadata": {
        "colab": {
          "base_uri": "https://localhost:8080/",
          "height": 206
        },
        "id": "jaVsmeTuqUny",
        "outputId": "e8bdee24-4e9a-406e-9bad-0f3e1b294929"
      },
      "execution_count": 121,
      "outputs": [
        {
          "output_type": "execute_result",
          "data": {
            "text/html": [
              "\n",
              "  <div id=\"df-d8bd9e8d-d7a0-4d1f-b8f9-300c2672be72\">\n",
              "    <div class=\"colab-df-container\">\n",
              "      <div>\n",
              "<style scoped>\n",
              "    .dataframe tbody tr th:only-of-type {\n",
              "        vertical-align: middle;\n",
              "    }\n",
              "\n",
              "    .dataframe tbody tr th {\n",
              "        vertical-align: top;\n",
              "    }\n",
              "\n",
              "    .dataframe thead th {\n",
              "        text-align: right;\n",
              "    }\n",
              "</style>\n",
              "<table border=\"1\" class=\"dataframe\">\n",
              "  <thead>\n",
              "    <tr style=\"text-align: right;\">\n",
              "      <th></th>\n",
              "      <th>Paper</th>\n",
              "      <th>Author</th>\n",
              "    </tr>\n",
              "  </thead>\n",
              "  <tbody>\n",
              "    <tr>\n",
              "      <th>0</th>\n",
              "      <td>1</td>\n",
              "      <td>Hamilton</td>\n",
              "    </tr>\n",
              "    <tr>\n",
              "      <th>1</th>\n",
              "      <td>2</td>\n",
              "      <td>Jay</td>\n",
              "    </tr>\n",
              "    <tr>\n",
              "      <th>2</th>\n",
              "      <td>3</td>\n",
              "      <td>Jay</td>\n",
              "    </tr>\n",
              "    <tr>\n",
              "      <th>3</th>\n",
              "      <td>4</td>\n",
              "      <td>Jay</td>\n",
              "    </tr>\n",
              "    <tr>\n",
              "      <th>4</th>\n",
              "      <td>5</td>\n",
              "      <td>Jay</td>\n",
              "    </tr>\n",
              "  </tbody>\n",
              "</table>\n",
              "</div>\n",
              "      <button class=\"colab-df-convert\" onclick=\"convertToInteractive('df-d8bd9e8d-d7a0-4d1f-b8f9-300c2672be72')\"\n",
              "              title=\"Convert this dataframe to an interactive table.\"\n",
              "              style=\"display:none;\">\n",
              "        \n",
              "  <svg xmlns=\"http://www.w3.org/2000/svg\" height=\"24px\"viewBox=\"0 0 24 24\"\n",
              "       width=\"24px\">\n",
              "    <path d=\"M0 0h24v24H0V0z\" fill=\"none\"/>\n",
              "    <path d=\"M18.56 5.44l.94 2.06.94-2.06 2.06-.94-2.06-.94-.94-2.06-.94 2.06-2.06.94zm-11 1L8.5 8.5l.94-2.06 2.06-.94-2.06-.94L8.5 2.5l-.94 2.06-2.06.94zm10 10l.94 2.06.94-2.06 2.06-.94-2.06-.94-.94-2.06-.94 2.06-2.06.94z\"/><path d=\"M17.41 7.96l-1.37-1.37c-.4-.4-.92-.59-1.43-.59-.52 0-1.04.2-1.43.59L10.3 9.45l-7.72 7.72c-.78.78-.78 2.05 0 2.83L4 21.41c.39.39.9.59 1.41.59.51 0 1.02-.2 1.41-.59l7.78-7.78 2.81-2.81c.8-.78.8-2.07 0-2.86zM5.41 20L4 18.59l7.72-7.72 1.47 1.35L5.41 20z\"/>\n",
              "  </svg>\n",
              "      </button>\n",
              "      \n",
              "  <style>\n",
              "    .colab-df-container {\n",
              "      display:flex;\n",
              "      flex-wrap:wrap;\n",
              "      gap: 12px;\n",
              "    }\n",
              "\n",
              "    .colab-df-convert {\n",
              "      background-color: #E8F0FE;\n",
              "      border: none;\n",
              "      border-radius: 50%;\n",
              "      cursor: pointer;\n",
              "      display: none;\n",
              "      fill: #1967D2;\n",
              "      height: 32px;\n",
              "      padding: 0 0 0 0;\n",
              "      width: 32px;\n",
              "    }\n",
              "\n",
              "    .colab-df-convert:hover {\n",
              "      background-color: #E2EBFA;\n",
              "      box-shadow: 0px 1px 2px rgba(60, 64, 67, 0.3), 0px 1px 3px 1px rgba(60, 64, 67, 0.15);\n",
              "      fill: #174EA6;\n",
              "    }\n",
              "\n",
              "    [theme=dark] .colab-df-convert {\n",
              "      background-color: #3B4455;\n",
              "      fill: #D2E3FC;\n",
              "    }\n",
              "\n",
              "    [theme=dark] .colab-df-convert:hover {\n",
              "      background-color: #434B5C;\n",
              "      box-shadow: 0px 1px 3px 1px rgba(0, 0, 0, 0.15);\n",
              "      filter: drop-shadow(0px 1px 2px rgba(0, 0, 0, 0.3));\n",
              "      fill: #FFFFFF;\n",
              "    }\n",
              "  </style>\n",
              "\n",
              "      <script>\n",
              "        const buttonEl =\n",
              "          document.querySelector('#df-d8bd9e8d-d7a0-4d1f-b8f9-300c2672be72 button.colab-df-convert');\n",
              "        buttonEl.style.display =\n",
              "          google.colab.kernel.accessAllowed ? 'block' : 'none';\n",
              "\n",
              "        async function convertToInteractive(key) {\n",
              "          const element = document.querySelector('#df-d8bd9e8d-d7a0-4d1f-b8f9-300c2672be72');\n",
              "          const dataTable =\n",
              "            await google.colab.kernel.invokeFunction('convertToInteractive',\n",
              "                                                     [key], {});\n",
              "          if (!dataTable) return;\n",
              "\n",
              "          const docLinkHtml = 'Like what you see? Visit the ' +\n",
              "            '<a target=\"_blank\" href=https://colab.research.google.com/notebooks/data_table.ipynb>data table notebook</a>'\n",
              "            + ' to learn more about interactive tables.';\n",
              "          element.innerHTML = '';\n",
              "          dataTable['output_type'] = 'display_data';\n",
              "          await google.colab.output.renderOutput(dataTable, element);\n",
              "          const docLink = document.createElement('div');\n",
              "          docLink.innerHTML = docLinkHtml;\n",
              "          element.appendChild(docLink);\n",
              "        }\n",
              "      </script>\n",
              "    </div>\n",
              "  </div>\n",
              "  "
            ],
            "text/plain": [
              "   Paper    Author\n",
              "0      1  Hamilton\n",
              "1      2       Jay\n",
              "2      3       Jay\n",
              "3      4       Jay\n",
              "4      5       Jay"
            ]
          },
          "metadata": {},
          "execution_count": 121
        }
      ]
    },
    {
      "cell_type": "code",
      "source": [
        "fed_dir = \"https://dlsun.github.io/pods/data/federalist/\"\n",
        "end = \".txt\"\n",
        "numbers = np.arange(1, 86, 1)\n",
        "\n",
        "\n",
        "fed_files = []\n",
        "for i in numbers:\n",
        "  fed_files.append(numbers[i-1].astype('str') + end)\n",
        "\n",
        "\n",
        "docs_fed = pd.Series()\n",
        "for file in fed_files:\n",
        "  response = requests.get(fed_dir + file, \"r\")\n",
        "  docs_fed[file[:-4]] = response.text\n",
        "\n",
        "docs_fed"
      ],
      "metadata": {
        "colab": {
          "base_uri": "https://localhost:8080/"
        },
        "id": "-jPs2q8yq5gS",
        "outputId": "3121c79d-eba1-4c51-f233-ec0e4a3f6f35"
      },
      "execution_count": 3,
      "outputs": [
        {
          "output_type": "stream",
          "name": "stderr",
          "text": [
            "/usr/local/lib/python3.7/dist-packages/ipykernel_launcher.py:11: DeprecationWarning: The default dtype for empty Series will be 'object' instead of 'float64' in a future version. Specify a dtype explicitly to silence this warning.\n",
            "  # This is added back by InteractiveShellApp.init_path()\n"
          ]
        },
        {
          "output_type": "execute_result",
          "data": {
            "text/plain": [
              "1     To the People of the State of New York:\\n\\nAFT...\n",
              "2     To the People of the State of New York:\\n\\nWHE...\n",
              "3     To the People of the State of New York:\\n\\nIT ...\n",
              "4     To the People of the State of New York:\\n\\nMY ...\n",
              "5     To the People of the State of New York:\\n\\nQUE...\n",
              "                            ...                        \n",
              "81    To the People of the State of New York:\\n\\nLET...\n",
              "82    To the People of the State of New York:\\n\\nTHE...\n",
              "83    To the People of the State of New York:\\n\\nTHE...\n",
              "84    To the People of the State of New York:\\n\\nIN ...\n",
              "85    To the People of the State of New York:\\n\\nACC...\n",
              "Length: 85, dtype: object"
            ]
          },
          "metadata": {},
          "execution_count": 3
        }
      ]
    },
    {
      "cell_type": "markdown",
      "metadata": {
        "id": "8YRe6SB3BLUN"
      },
      "source": [
        "## Question 1\n",
        "\n",
        "When analyzing an author's style, common words like \"the\" and \"on\" are actually more useful than rare words like \"hostilities\". That is because rare words typically signify context. Context is useful if you are trying to find documents about similar topics, but not so useful if you are trying to identify an author's style because different authors can write about the same topic. For example, both Dr. Seuss and Charles Dickens used rare words like \"chimney\" and \"stockings\" in _How the Grinch Stole Christmas_ and _A Christmas Carol_, respectively. But they used common words very differently: Dickens used the word \"upon\" over 100 times, while Dr. Seuss did not use \"upon\" even once.\n",
        "\n",
        "Read in the Federalist Papers. Convert each one into a vector of term frequencies. In order to restrict to common words, include only the top 50 words across the corpus. (Because we are restricting to the most common words already, there is no reason to reweight them using TF-IDF.)"
      ]
    },
    {
      "cell_type": "code",
      "source": [
        "from collections import Counter\n",
        "words = (\n",
        "    docs_fed.\n",
        "    str.lower().\n",
        "    str.replace(\"[^\\w\\s]\", \" \").\n",
        "    str.split()\n",
        ")\n",
        "words"
      ],
      "metadata": {
        "colab": {
          "base_uri": "https://localhost:8080/"
        },
        "id": "2QFip4-qF8K_",
        "outputId": "fc96270d-e52a-475a-f41e-1d63f3181d5b"
      },
      "execution_count": 4,
      "outputs": [
        {
          "output_type": "stream",
          "name": "stderr",
          "text": [
            "/usr/local/lib/python3.7/dist-packages/ipykernel_launcher.py:5: FutureWarning: The default value of regex will change from True to False in a future version.\n",
            "  \"\"\"\n"
          ]
        },
        {
          "output_type": "execute_result",
          "data": {
            "text/plain": [
              "1     [to, the, people, of, the, state, of, new, yor...\n",
              "2     [to, the, people, of, the, state, of, new, yor...\n",
              "3     [to, the, people, of, the, state, of, new, yor...\n",
              "4     [to, the, people, of, the, state, of, new, yor...\n",
              "5     [to, the, people, of, the, state, of, new, yor...\n",
              "                            ...                        \n",
              "81    [to, the, people, of, the, state, of, new, yor...\n",
              "82    [to, the, people, of, the, state, of, new, yor...\n",
              "83    [to, the, people, of, the, state, of, new, yor...\n",
              "84    [to, the, people, of, the, state, of, new, yor...\n",
              "85    [to, the, people, of, the, state, of, new, yor...\n",
              "Length: 85, dtype: object"
            ]
          },
          "metadata": {},
          "execution_count": 4
        }
      ]
    },
    {
      "cell_type": "code",
      "source": [
        "cat = []\n",
        "for i in range (0, 85):\n",
        "  cat += words[i]\n",
        "\n",
        "counts = Counter(cat)\n",
        "top = counts.most_common(50)\n",
        "top"
      ],
      "metadata": {
        "id": "1IYTN_2lYTPa",
        "colab": {
          "base_uri": "https://localhost:8080/"
        },
        "outputId": "6b971425-a5ea-4315-d7f4-6a1a6da4a495"
      },
      "execution_count": 12,
      "outputs": [
        {
          "output_type": "execute_result",
          "data": {
            "text/plain": [
              "[('the', 17767),\n",
              " ('of', 11824),\n",
              " ('to', 7074),\n",
              " ('and', 5099),\n",
              " ('in', 4456),\n",
              " ('a', 3991),\n",
              " ('be', 3825),\n",
              " ('that', 2792),\n",
              " ('it', 2550),\n",
              " ('is', 2194),\n",
              " ('which', 2068),\n",
              " ('by', 1741),\n",
              " ('as', 1721),\n",
              " ('this', 1410),\n",
              " ('would', 1273),\n",
              " ('have', 1262),\n",
              " ('will', 1255),\n",
              " ('for', 1237),\n",
              " ('or', 1233),\n",
              " ('not', 1215),\n",
              " ('their', 1098),\n",
              " ('with', 1053),\n",
              " ('from', 1043),\n",
              " ('are', 1032),\n",
              " ('on', 952),\n",
              " ('they', 928),\n",
              " ('an', 927),\n",
              " ('states', 851),\n",
              " ('government', 829),\n",
              " ('may', 816),\n",
              " ('been', 798),\n",
              " ('state', 787),\n",
              " ('all', 731),\n",
              " ('but', 697),\n",
              " ('its', 651),\n",
              " ('other', 646),\n",
              " ('people', 612),\n",
              " ('has', 603),\n",
              " ('power', 603),\n",
              " ('more', 579),\n",
              " ('at', 568),\n",
              " ('if', 563),\n",
              " ('than', 550),\n",
              " ('them', 548),\n",
              " ('one', 547),\n",
              " ('any', 545),\n",
              " ('no', 506),\n",
              " ('those', 481),\n",
              " ('can', 465),\n",
              " ('constitution', 463)]"
            ]
          },
          "metadata": {},
          "execution_count": 12
        }
      ]
    },
    {
      "cell_type": "markdown",
      "metadata": {
        "id": "bDLgJQtaHljA"
      },
      "source": [
        "## Question 2\n",
        "Make a visualization that summarizes the most common words used by Hamilton, Madison, and Jay."
      ]
    },
    {
      "cell_type": "code",
      "source": [
        "df_authorship[\"Author\"].unique()"
      ],
      "metadata": {
        "colab": {
          "base_uri": "https://localhost:8080/"
        },
        "id": "7c9Mz7plFtt_",
        "outputId": "4d1e1e3b-4e42-45e0-c521-57e7fa7f9cd8"
      },
      "execution_count": 6,
      "outputs": [
        {
          "output_type": "execute_result",
          "data": {
            "text/plain": [
              "array(['Hamilton', 'Jay', 'Madison', nan], dtype=object)"
            ]
          },
          "metadata": {},
          "execution_count": 6
        }
      ]
    },
    {
      "cell_type": "code",
      "source": [
        "df_hamilton = df_authorship[(df_authorship[\"Author\"] == \"Hamilton\")]\n",
        "df_madison = df_authorship[(df_authorship[\"Author\"] == \"Madison\")]\n",
        "df_jay = df_authorship[(df_authorship[\"Author\"] == \"Jay\")]\n",
        "\n",
        "hamilton_index = df_hamilton[\"Paper\"].tolist()\n",
        "madison_index = df_madison[\"Paper\"].tolist()\n",
        "jay_index = df_jay[\"Paper\"].tolist()\n",
        "\n",
        "ham_cat = []\n",
        "for i in hamilton_index:\n",
        "  ham_cat += words[i-1]\n",
        "ham_cat\n",
        "ham_counts = Counter(ham_cat).most_common(5)\n",
        "\n",
        "mad_cat = []\n",
        "for i in madison_index:\n",
        "  mad_cat += words[i-1]\n",
        "mad_cat\n",
        "mad_counts = Counter(mad_cat).most_common(5)\n",
        "\n",
        "jay_cat = []\n",
        "for i in jay_index:\n",
        "  jay_cat += words[i-1]\n",
        "jay_cat\n",
        "jay_counts = Counter(jay_cat).most_common(5)"
      ],
      "metadata": {
        "id": "2P0bIxwlYTz7"
      },
      "execution_count": 22,
      "outputs": []
    },
    {
      "cell_type": "code",
      "source": [
        "import matplotlib.pyplot as plt\n",
        "import numpy as np\n",
        "\n",
        "labels, ys = zip(*jay_counts)\n",
        "xs = np.arange(len(labels))\n",
        "width = 1\n",
        "\n",
        "plt.bar(xs, ys, width, align = 'center', alpha = 0.25)\n",
        "\n",
        "plt.xticks(xs, labels)\n",
        "plt.yticks(ys)\n",
        "\n",
        "labels, ys = zip(*mad_counts)\n",
        "xs = np.arange(len(labels))\n",
        "width = 1\n",
        "\n",
        "plt.bar(xs, ys, width, align = 'center', alpha = 0.25)\n",
        "\n",
        "plt.xticks(xs, labels)\n",
        "plt.yticks(ys)\n",
        "\n",
        "labels, ys = zip(*ham_counts)\n",
        "xs = np.arange(len(labels))\n",
        "width = 1\n",
        "\n",
        "plt.bar(xs, ys, width, align = 'center', alpha = 0.25)\n",
        "\n",
        "plt.xticks(xs, labels)\n",
        "plt.yticks(ys)"
      ],
      "metadata": {
        "colab": {
          "base_uri": "https://localhost:8080/",
          "height": 375
        },
        "id": "gSdC0oyUyLiu",
        "outputId": "36f0536c-d8f2-4a20-8a84-927714332c70"
      },
      "execution_count": 23,
      "outputs": [
        {
          "output_type": "execute_result",
          "data": {
            "text/plain": [
              "([<matplotlib.axis.YTick at 0x7f84b3d70150>,\n",
              "  <matplotlib.axis.YTick at 0x7f84b3deb950>,\n",
              "  <matplotlib.axis.YTick at 0x7f84b3ee1450>,\n",
              "  <matplotlib.axis.YTick at 0x7f84b3da8a50>,\n",
              "  <matplotlib.axis.YTick at 0x7f84b3da8b50>],\n",
              " <a list of 5 Text major ticklabel objects>)"
            ]
          },
          "metadata": {},
          "execution_count": 23
        },
        {
          "output_type": "display_data",
          "data": {
            "image/png": "[encoded data removed]",
            "text/plain": [
              "<Figure size 432x288 with 1 Axes>"
            ]
          },
          "metadata": {
            "needs_background": "light"
          }
        }
      ]
    },
    {
      "cell_type": "markdown",
      "metadata": {
        "id": "fh0DzmKrBLUT"
      },
      "source": [
        "## Question 3\n",
        "\n",
        "For each of the documents with disputed authorships, find the 5 most similar documents with _known_ authorships, using cosine distance on the term frequencies. Use the authors of these 5 most similar documents to predict the author of each disputed document. (For example, if 3 of the 5 closest documents were written by Hamilton, 1 by Madison, and 1 by Jay, then we would predict that the disputed document was written by Hamilton.)"
      ]
    },
    {
      "cell_type": "code",
      "source": [
        "from sklearn.feature_extraction.text import CountVectorizer\n",
        "from sklearn.metrics.pairwise import cosine_similarity\n",
        "\n",
        "df_unk = df_authorship[df_authorship[\"Author\"].isnull()]\n",
        "\n",
        "vec = CountVectorizer()\n",
        "vec.fit(docs_fed) # This determines the vocabulary.\n",
        "tf_sparse = vec.transform(docs_fed)\n",
        "\n",
        "cos_sim = cosine_similarity(tf_sparse)\n",
        "\n",
        "for idx in df_unk.index:\n",
        "  ham, mad, jay = 0, 0, 0\n",
        "  closest = np.argsort((-cos_sim[idx]))[1:6]\n",
        "  print(\"For paper %s, the most similar are\" %idx,\n",
        "        closest)\n",
        "  for i in closest:\n",
        "    if df_authorship[\"Author\"][i] == \"Hamilton\":\n",
        "      ham += 1\n",
        "    elif df_authorship[\"Author\"][i] == \"Madison\":\n",
        "      mad += 1\n",
        "    elif df_authorship[\"Author\"][i] == \"Jay\":\n",
        "      jay += 1\n",
        "  if ham > mad and ham > jay:\n",
        "    print(\"The author was most likely Hamilton\")\n",
        "  elif mad > ham and mad > jay:\n",
        "    print(\"The author was most likely Madison\")\n",
        "  elif jay > ham and jay > mad:\n",
        "    print(\"The author was most likely Jay\")\n"
      ],
      "metadata": {
        "id": "HaviAvxrYUGX",
        "colab": {
          "base_uri": "https://localhost:8080/"
        },
        "outputId": "e04f483f-5724-48cc-ee08-4ca9ee980230"
      },
      "execution_count": 131,
      "outputs": [
        {
          "output_type": "stream",
          "name": "stdout",
          "text": [
            "For paper 17, the most similar are [18 19 16 44 43]\n",
            "The author was most likely Madison\n",
            "For paper 18, the most similar are [17 19 16 41 43]\n",
            "The author was most likely Madison\n",
            "For paper 19, the most similar are [18 17 41 36 37]\n",
            "The author was most likely Madison\n",
            "For paper 48, the most similar are [77 62 42 40 64]\n",
            "For paper 49, the most similar are [48 47 57 62 40]\n",
            "The author was most likely Madison\n",
            "For paper 50, the most similar are [42 48 57 40 45]\n",
            "The author was most likely Madison\n",
            "For paper 51, the most similar are [40 62 42 77 57]\n",
            "The author was most likely Madison\n",
            "For paper 52, the most similar are [61 40 56 42 35]\n",
            "The author was most likely Madison\n",
            "For paper 53, the most similar are [42 57 38 80 83]\n",
            "For paper 54, the most similar are [56 83 40 61 13]\n",
            "The author was most likely Madison\n",
            "For paper 55, the most similar are [52 56 35 83 61]\n",
            "The author was most likely Hamilton\n",
            "For paper 56, the most similar are [83 54 62 40 13]\n",
            "The author was most likely Madison\n",
            "For paper 57, the most similar are [62 42 40 13 45]\n",
            "The author was most likely Madison\n",
            "For paper 61, the most similar are [37 83 21 35 36]\n",
            "The author was most likely Hamilton\n",
            "For paper 62, the most similar are [40 57 56 42 51]\n",
            "The author was most likely Madison\n"
          ]
        }
      ]
    },
    {
      "cell_type": "markdown",
      "metadata": {
        "id": "8Ng3BgkXBLUw"
      },
      "source": [
        "## Submission Instructions\n",
        "\n",
        "- Copy this notebook to your own Drive, if you have not already.\n",
        "- Restart this notebook and run the cells from beginning to end. \n",
        "  - Go to Runtime > Restart and Run All.\n",
        "- Rename this notebook by clicking on \"DATA 301 Lab 5 - YOUR NAMES HERE\" at the very top of this page. Replace \"YOUR NAMES HERE\" with the first and last names of you (and your partners, for Phase 2).\n",
        "- Get the link to your notebook:\n",
        "  - Click on \"Share\" at the top-right. \n",
        "  - Change the settings to \"Anyone with the link can view\". \n",
        "  - Copy the sharing link into Canvas."
      ]
    }
  ]
}